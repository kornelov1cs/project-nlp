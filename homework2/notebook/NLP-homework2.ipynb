{
 "cells": [
  {
   "cell_type": "markdown",
   "metadata": {
    "id": "0cbIaeP9pX07"
   },
   "source": [
    "# Natural Language Processing - Assignment 2\n",
    "# Sentiment analysis for movie reviews\n",
    "\n",
    "This notebook was created for you to answer question 2, 3 and 4 from assignment 2. Please read the steps and the provided code carefully and make sure you understand them. \n",
    "\n",
    "The (red) comments at the beginning of each function explain what they should do, which parameters you should give as input and which variables should be returned by the function. After the (green) comments \"### student code here###' you should write your own code.\n",
    "\n",
    "**Please modify the next cell specifying your group number**"
   ]
  },
  {
   "cell_type": "markdown",
   "metadata": {
    "id": "_hIJFbDA1Qbi"
   },
   "source": [
    " *This is the Notebook of* ***Group 0*** \n",
    "\n",
    "\n"
   ]
  },
  {
   "cell_type": "markdown",
   "metadata": {
    "id": "CQfxb4pUNs1-"
   },
   "source": [
    "### Prerequisite - Libraries\n",
    "Make sure you have the needed libraries installed on your computer: scikit-learn, Pandas, NLTK..."
   ]
  },
  {
   "cell_type": "markdown",
   "metadata": {
    "id": "3KiI6RyOpX08"
   },
   "source": [
    "### Prerequisite - Load Data\n",
    "\n",
    "In the first step, we are going to load the data in a Pandas DataFrame. Pandas DataFrames are a useful way of storing data. DataFrames are tables in which data can be accessed as columns, as rows or as individual cells. You can find more info on DataFrames here: https://pandas.pydata.org/pandas-docs/stable/reference/api/pandas.DataFrame.html\n",
    "\n",
    "Read the code below and make sure you understand what is happening. Run the code to load your data."
   ]
  },
  {
   "cell_type": "code",
   "execution_count": null,
   "metadata": {
    "id": "hX1AE_fJpX09"
   },
   "outputs": [],
   "source": [
    "import os\n",
    "import re\n",
    "import pandas as pd\n",
    "import numpy as np\n",
    "import glob\n",
    "### student code here: import the needed modules from sci-kit learn ###"
   ]
  },
  {
   "cell_type": "code",
   "execution_count": null,
   "metadata": {
    "id": "eazU-uYcpX1B"
   },
   "outputs": [],
   "source": [
    "def get_path(filename):\n",
    "    \"\"\"\n",
    "    Makes a list of all the paths that fit the search requirement\n",
    "    \n",
    "    :param filename: A regular expression that defines the search requirement for the filenames\n",
    "    :return  Returns a list of all the pathnames\n",
    "    \"\"\"\n",
    "    # place the movies folder in the same directory as this notebook\n",
    "    current_directory = os.getcwd()\n",
    "    # if you are using Google Colab, you will have to change the above line\n",
    "    # to load the dataset from your Google Drive\n",
    "\n",
    "    # glob.glob() is a pattern-matching path finder, it searches for the reviews in the movies folder based on a Regular Expression\n",
    "    paths = glob.glob(current_directory + '/movies/' + filename)\n",
    "    \n",
    "    if len(paths) == 0:\n",
    "        print('Your file list is empty. The code looks for the folder '+current_directory+'/movies, but could not find it.')\n",
    "    else: \n",
    "        print(\"Found \", len(paths), \"files\")\n",
    "    return paths"
   ]
  },
  {
   "cell_type": "code",
   "execution_count": null,
   "metadata": {
    "id": "RrcOjEdSpX1E"
   },
   "outputs": [],
   "source": [
    "def load_data(pathset):\n",
    "    \"\"\"\n",
    "    Loads the data into a dataframe\n",
    "    \n",
    "    :param pathset:  A list of paths\n",
    "    :return  A dataframe with three columns: Path, Review (Text) and Label\n",
    "    \"\"\"\n",
    "    # Files are named by sentiment (P for positive, N for negative)\n",
    "    pattern = re.compile('P-(train|test)[0-9]*.txt')\n",
    "    reviews = []\n",
    "    labels = []\n",
    "    df = pd.DataFrame(columns = ['Path', 'Review', 'Label'])\n",
    "    for path in pathset:\n",
    "        if re.search(pattern, path):\n",
    "            text = open(path, \"r\").read()\n",
    "            reviews.append(text)\n",
    "            labels.append('Pos')\n",
    "        else:\n",
    "            text = open(path, \"r\").read()\n",
    "            reviews.append(text)\n",
    "            labels.append('Neg')\n",
    "    df['Path'] = pathset\n",
    "    df['Review'] = reviews\n",
    "    df['Label'] = labels\n",
    "    return df"
   ]
  },
  {
   "cell_type": "code",
   "execution_count": null,
   "metadata": {
    "id": "cvGgLWN_pX1G"
   },
   "outputs": [],
   "source": [
    "#Load the files in the Dataframe. This will take a while...\n",
    "paths = get_path('train/[NP]-train[0-9]*.txt')\n",
    "data = load_data(paths)\n",
    "data.head()"
   ]
  },
  {
   "cell_type": "markdown",
   "metadata": {
    "id": "zRRamA_8pX1K"
   },
   "source": [
    "### Part 2 - Tokenization\n",
    "\n",
    "In this step, you should write a tokenizer and compare it with an off-the-shelf one.\n",
    "\n",
    "#### Question 2.1 Making your own tokenizer"
   ]
  },
  {
   "cell_type": "code",
   "execution_count": null,
   "metadata": {
    "id": "UkZwy1ATNs2F"
   },
   "outputs": [],
   "source": [
    "def my_tokenizer(text):\n",
    "    \"\"\"\n",
    "    The implementation of your own tokenizer\n",
    "    \n",
    "    :param text:  A string with a sentence (or paragraph, or document...)\n",
    "    :return  A list of tokens\n",
    "    \"\"\"    \n",
    "    ### student code here ###\n",
    "\n",
    "    \n",
    "    return tokenized_text\n",
    "\n",
    "sample_string0 = \"If you have the chance, watch it. Although, a warning, you'll cry your eyes out.\"\n",
    "sample_string1 = \"\"#Write 3 sample sentences to tokenize \n",
    "sample_string2 = \"\" \n",
    "sample_string3 = \"\"\n",
    "print(my_tokenizer(sample_string0))\n",
    "print(my_tokenizer(sample_string1))\n",
    "print(my_tokenizer(sample_string2))\n",
    "print(my_tokenizer(sample_string3))"
   ]
  },
  {
   "cell_type": "markdown",
   "metadata": {
    "id": "6pxI0gdoNs2G"
   },
   "source": [
    "#### Question 2.2 Using an off-the-shelf tokenizer"
   ]
  },
  {
   "cell_type": "code",
   "execution_count": null,
   "metadata": {
    "id": "TXUTKVyqNs2H"
   },
   "outputs": [],
   "source": [
    "#Now we are gonna compare the tokenizer you just wrote with the one from NLTK\n",
    "#if you installed NLTK but never downloaded the 'punkt' tokenizer, uncomment the following lines:\n",
    "#import nltk\n",
    "#nltk.download('punkt')\n",
    "from nltk.tokenize import word_tokenize\n",
    "\n",
    "def nltk_tokenizer(text):\n",
    "    \"\"\"\n",
    "    This function should apply the word_tokenize (punkt) tokenizer of nltk to the input text\n",
    "    \n",
    "    :param text:  A string with a sentence (or paragraph, or document...)\n",
    "    :return  A list of tokens\n",
    "    \"\"\"     \n",
    "    ### student code here ###    \n",
    "    \n",
    "    \n",
    "    \n",
    "    return tokenized_text\n",
    "\n",
    "test_sentences = [\"I like this assignment because:\\n-\\tit is fun;\\n-\\tit helps me practice my Python skills.\",\n",
    "        \"I won a prize, but I won't be able to attend the ceremony.\",\n",
    "        \"“The strange case of Dr. Jekyll and Mr. Hyde” is a famous book... but I haven't read it.\",\n",
    "        \"I work for the C.I.A.. And you?\",\n",
    "        \"OMG #Twitter is sooooo coooool <3 :-) <-- lol...why do i write like this idk right? :) 🤷😂 🤖\"]\n",
    "\n",
    "for test_string in test_sentences:\n",
    "    print(my_tokenizer(test_string))\n",
    "    print(nltk_tokenizer(test_string))\n",
    "    print(\"\\n\")\n",
    "    "
   ]
  },
  {
   "cell_type": "markdown",
   "metadata": {
    "id": "NUrQ_8EbNs2N"
   },
   "source": [
    "### Part 3 - Text classification with a unigram language model\n",
    "\n",
    "#### Training phase\n",
    "You now need to create the model and train it on the documents in the dataframe. Look at the scikit learn documentation to learn how to use the CountVectorizer and MultimodalNaiveBayes modules."
   ]
  },
  {
   "cell_type": "code",
   "execution_count": null,
   "metadata": {
    "id": "tQMy8K-MNs2N"
   },
   "outputs": [],
   "source": [
    "### Student answer here ###\n"
   ]
  },
  {
   "cell_type": "markdown",
   "metadata": {
    "id": "wrmIrKsbNs2O"
   },
   "source": [
    "#### Testing phase\n",
    "Now that you have a trained model, you need to test its performance.\n",
    "\n",
    "1. Load your test data.\n",
    "2. Classify your test data using the classifier you trained before.\n",
    "3. Compute the accuracy of your classifier on the test data"
   ]
  },
  {
   "cell_type": "code",
   "execution_count": null,
   "metadata": {
    "id": "NNZtd9aqNs2O"
   },
   "outputs": [],
   "source": [
    "# First, read all the test data from the files.  \n",
    "# Then classify it using the classifier you trained before\n",
    "# Finally, calculate the performance\n",
    "### Student code here ###\n"
   ]
  },
  {
   "cell_type": "markdown",
   "metadata": {
    "id": "q2XPTWi1ytLW"
   },
   "source": [
    "Now train two more models: one without Laplace smoothing, and one where stopwords are removed. Then test them on the same test data, and compare the performance with the results you previously obtained."
   ]
  },
  {
   "cell_type": "code",
   "execution_count": null,
   "metadata": {
    "id": "H6antoDczL0U"
   },
   "outputs": [],
   "source": [
    "### Student code here ###\n",
    "\n",
    "#Model without smoothing:\n",
    "\n",
    "\n",
    "#Model with stop words removed:\n",
    "\n"
   ]
  },
  {
   "cell_type": "markdown",
   "metadata": {
    "id": "tDCgEfYgNs2Q"
   },
   "source": [
    "### Part 4 - Text classification with a bigram language model\n",
    "\n",
    "Now we will classify the same dataset again, but this time with a bigram language model. \n",
    "\n",
    "#### Training phase\n",
    "Build a Naïve Bayes classifier that uses bigrams instead of single words.\n"
   ]
  },
  {
   "cell_type": "code",
   "execution_count": null,
   "metadata": {
    "id": "ZSIam3ObNs2Q"
   },
   "outputs": [],
   "source": [
    "### Student code here ###\n",
    "\n"
   ]
  },
  {
   "cell_type": "markdown",
   "metadata": {
    "id": "ReyUDT1dNs2R"
   },
   "source": [
    "#### Testing phase\n",
    "As before, calculate the performance on your test data, and notice the difference with the previous"
   ]
  },
  {
   "cell_type": "code",
   "execution_count": null,
   "metadata": {
    "id": "z6rkqDJENs2R"
   },
   "outputs": [],
   "source": [
    "### Student code here ###\n"
   ]
  },
  {
   "cell_type": "markdown",
   "metadata": {
    "id": "gY3K9vaB0Vzk"
   },
   "source": [
    "### Trigrams\n",
    "When I asked students how to improve the classification performance on this dataset, the first question was always \"use trigrams\" (or even higher-order n-grams). Let's try how much of an improvement that would be, by training a trigram model and testing it."
   ]
  },
  {
   "cell_type": "code",
   "execution_count": null,
   "metadata": {
    "id": "U7htbTfeNs2S"
   },
   "outputs": [],
   "source": [
    "### Student code here ###\n"
   ]
  }
 ],
 "metadata": {
  "colab": {
   "collapsed_sections": [],
   "name": "NLP_2021_Homework2_FINAL.ipynb",
   "provenance": [],
   "toc_visible": true
  },
  "kernelspec": {
   "display_name": "Python 3 (ipykernel)",
   "language": "python",
   "name": "python3"
  },
  "language_info": {
   "codemirror_mode": {
    "name": "ipython",
    "version": 3
   },
   "file_extension": ".py",
   "mimetype": "text/x-python",
   "name": "python",
   "nbconvert_exporter": "python",
   "pygments_lexer": "ipython3",
   "version": "3.10.6"
  }
 },
 "nbformat": 4,
 "nbformat_minor": 1
}
